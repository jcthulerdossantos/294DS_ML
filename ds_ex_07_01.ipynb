{
 "cells": [
  {
   "cell_type": "markdown",
   "metadata": {},
   "source": [
    "# Exercício 07_01\n",
    "\n",
    "#### Juliana Carolina Thuler dos Santos\n",
    "\n",
    "## Árvore\n",
    "\n",
    "Criar o código necessários para que os métodos `.cria_regras()` e `.predicao()` cumpram seus objetivos. O primeiro deve percorrer a árvore já criada pelo `.cria_galhos()` e armazeanda nos atributos `filhos`, armazenando em um dicionário as regras para cada quebra. Já o segundo deve para uma nova instância, percorrer as regras criadas pelo método anterior e fazer a predição baseado nisso.\n",
    "\n",
    "Você pode passar nos parâmetros para os métodos que julgar necessário.\n",
    "\n",
    "Lembrando que partimos das premissas que:\n",
    "\n",
    "- Nosso problema terá como variáveis explicativas apenas dados categóricos;\n",
    "- Nosso problema terá como variável resposta apenas dados categóricos;"
   ]
  },
  {
   "cell_type": "code",
   "execution_count": 1,
   "metadata": {},
   "outputs": [],
   "source": [
    "import pandas as pd\n",
    "import numpy as np\n",
    "from scipy.stats import mode\n",
    "\n",
    "df = pd.read_csv('titanic.csv')\n",
    "\n",
    "df_amostra = df.sample(15, random_state = 1)"
   ]
  },
  {
   "cell_type": "code",
   "execution_count": 2,
   "metadata": {},
   "outputs": [],
   "source": [
    "class Arvore:\n",
    "    \n",
    "    def __init__(self, \n",
    "                 df, var_resposta, \n",
    "                 atributo_origem = '-',\n",
    "                 atributo_origem_valor = '-', \n",
    "                 profundidade = 0):\n",
    "        \n",
    "        self.df = df\n",
    "        self.var_resposta = var_resposta\n",
    "        self.filhos = []\n",
    "        self.atributo_melhor = '-'\n",
    "        self.atributo_origem = atributo_origem\n",
    "        self.atributo_origem_valor = atributo_origem_valor\n",
    "        self.gi = 0\n",
    "        self.profundidade = profundidade\n",
    "        self.regras = []\n",
    "    \n",
    "    def __repr__(self):\n",
    "        return f'''Nó {self.profundidade} da Árvore de Decisão.\\nCaracterísticas do No:\n",
    "            Dataframe de {self.df.shape[0]} linhas.\n",
    "            A origem desse nó é o atributo {self.atributo_origem} com valor {self.atributo_origem_valor}\n",
    "            Melhor atributo desse nó é {self.atributo_melhor} com GI de {self.gi}'''\n",
    "    \n",
    "    @staticmethod\n",
    "    def entropia_binaria(p):\n",
    "    \n",
    "        if p == 0 or p == 1:\n",
    "            return 0\n",
    "\n",
    "        n = 1 - p\n",
    "        return -(p*np.log2(p) + n*np.log2(n))\n",
    "    \n",
    "    @staticmethod\n",
    "    def ganho_informacao(df, coluna, var_resposta):\n",
    "    \n",
    "        seq_poss = df[coluna].unique()\n",
    "\n",
    "        ent_inicial = Arvore.entropia_binaria(df[var_resposta].value_counts(1).iloc[0])\n",
    "\n",
    "        conj = [df[df[coluna] == i] for i in seq_poss]\n",
    "        ent = [Arvore.entropia_binaria(i[var_resposta].value_counts(1).iloc[0]) for i in conj]\n",
    "        n_elem = [i.shape[0] for i in conj]\n",
    "\n",
    "        total = sum(n_elem)\n",
    "\n",
    "        ent_atr = 0\n",
    "        for i in range(len(conj)):\n",
    "            ent_atr += ent[i]*n_elem[i]/total\n",
    "\n",
    "        return ent_inicial - ent_atr\n",
    "        \n",
    "    def melhor_atributo(self):\n",
    "        '''\n",
    "        Esse método acha o melhor atributo em relação ao ganho de informação.\n",
    "        '''\n",
    "\n",
    "        colunas_a_testar = self.df.columns.to_list()\n",
    "        colunas_a_testar.remove(self.var_resposta)\n",
    "\n",
    "        maior_v = 0\n",
    "        maior_k = '-'\n",
    "\n",
    "        for col in colunas_a_testar:\n",
    "\n",
    "            v = Arvore.ganho_informacao(self.df, col, self.var_resposta)\n",
    "            if v > maior_v:\n",
    "                maior_v = v\n",
    "                maior_k = col\n",
    "        \n",
    "        return maior_k, maior_v\n",
    "        \n",
    "    def realiza_quebra(self):\n",
    "        '''\n",
    "        Quebra o conjunto de dados inicial em N subconjuntos de acordo com \n",
    "        o melhor atributo.\n",
    "        '''\n",
    "        \n",
    "        self.atributo_melhor, self.gi = self.melhor_atributo()\n",
    "        \n",
    "        if self.atributo_melhor == '-':\n",
    "            return \n",
    "        \n",
    "        possibilidades = self.df[self.atributo_melhor].unique()\n",
    "        \n",
    "        for p in possibilidades:\n",
    "            mascara = self.df[self.atributo_melhor] == p\n",
    "            sub_conj = self.df.loc[mascara, :]\n",
    "            self.filhos.append(Arvore(sub_conj, \n",
    "                                      self.var_resposta, \n",
    "                                      atributo_origem = self.atributo_melhor,\n",
    "                                      atributo_origem_valor = p,\n",
    "                                      profundidade = self.profundidade + 1))\n",
    "            \n",
    "            \n",
    "    def cria_galhos(self):\n",
    "        \n",
    "        self.realiza_quebra()\n",
    "        \n",
    "        for i in self.filhos:\n",
    "            \n",
    "            p0 = i.df[i.var_resposta].value_counts(1).iloc[0]\n",
    "            ent = Arvore.entropia_binaria(p0)\n",
    "            \n",
    "            if ent > 0:\n",
    "                i.cria_galhos()\n",
    "                \n",
    "    \n",
    "    # TODO\n",
    "    def cria_regras(self):\n",
    "        '''\n",
    "        Esse método deve percorrer recurssivamente as árvores retornando o\n",
    "        conjunto de regras que definem a qual nó a nova instância pertencerá.\n",
    "        '''\n",
    "        \n",
    "        self.regras = [self.atributo_origem, self.atributo_origem_valor, self.atributo_melhor,self.gi]\n",
    "        \n",
    "        # Condição de parada:\n",
    "        if self.regras[3] == 0:\n",
    "            pass\n",
    "        \n",
    "        else:\n",
    "            for i in self.filhos:\n",
    "                i.cria_regras()\n",
    "                \n",
    "        return self.regras\n",
    "    \n",
    "    # TODO\n",
    "    def predicao(self, nova_instancia):\n",
    "        ''' \n",
    "        Dado uma nova instância, retorna a sua predição.\n",
    "        '''\n",
    "        \n",
    "        df = self.df[self.df[self.regras[2]] == nova_instancia[self.regras[2]]]\n",
    "        nova_instancia = nova_instancia.drop(labels = [self.regras[2]])\n",
    "        \n",
    "        if len(nova_instancia) == 0:\n",
    "            pass\n",
    "        \n",
    "        else:\n",
    "        \n",
    "            for i in self.filhos:\n",
    "                        \n",
    "                for j in nova_instancia:\n",
    "                    if j == i.regras[1]:\n",
    "                        i.predicao(nova_instancia)\n",
    "            \n",
    "        lista = list(df['Survived'])\n",
    "        pred = mode(lista).mode[0]                \n",
    "        \n",
    "        return pred"
   ]
  },
  {
   "cell_type": "code",
   "execution_count": 3,
   "metadata": {},
   "outputs": [],
   "source": [
    "df_amostra = df_amostra[['Survived', 'Parch', 'Sex', 'SibSp', 'Pclass']]\n",
    "\n",
    "x_teste = df_amostra.drop(columns = ['Survived'])\n",
    "y_teste = df_amostra[['Survived']]"
   ]
  },
  {
   "cell_type": "code",
   "execution_count": 4,
   "metadata": {},
   "outputs": [],
   "source": [
    "arv = Arvore(df_amostra[['Survived', 'Parch', 'Sex', 'SibSp', 'Pclass']], 'Survived')"
   ]
  },
  {
   "cell_type": "code",
   "execution_count": 5,
   "metadata": {},
   "outputs": [],
   "source": [
    "arv.cria_galhos()"
   ]
  },
  {
   "cell_type": "code",
   "execution_count": 6,
   "metadata": {},
   "outputs": [],
   "source": [
    "#cria_regras()"
   ]
  },
  {
   "cell_type": "code",
   "execution_count": 7,
   "metadata": {},
   "outputs": [
    {
     "data": {
      "text/plain": [
       "['-', '-', 'Sex', 0.430776632270099]"
      ]
     },
     "execution_count": 7,
     "metadata": {},
     "output_type": "execute_result"
    }
   ],
   "source": [
    "arv.cria_regras()"
   ]
  },
  {
   "cell_type": "code",
   "execution_count": 8,
   "metadata": {},
   "outputs": [
    {
     "name": "stdout",
     "output_type": "stream",
     "text": [
      "['Sex', 'female', 'Pclass', 0.13792538097003]\n",
      "['Sex', 'male', 'Pclass', 0.3059584928680418]\n"
     ]
    }
   ],
   "source": [
    "#veio de: 'Sex'\n",
    "#'Sex' = female' / 'male'\n",
    "#próxima quebra: 'Pclass' / 'Pclass'\n",
    "#GI das próximos quebras\n",
    "\n",
    "for i in range(len(df['Sex'].unique())):\n",
    "    print(arv.filhos[i].regras)"
   ]
  },
  {
   "cell_type": "code",
   "execution_count": 9,
   "metadata": {},
   "outputs": [],
   "source": [
    "#predicao()"
   ]
  },
  {
   "cell_type": "code",
   "execution_count": 10,
   "metadata": {},
   "outputs": [],
   "source": [
    "predict = []\n",
    "for linha in range(len(x_teste)):\n",
    "    p = arv.predicao(x_teste.iloc[linha,:])\n",
    "    predict.append(p)"
   ]
  },
  {
   "cell_type": "code",
   "execution_count": 13,
   "metadata": {},
   "outputs": [
    {
     "data": {
      "text/plain": [
       "0.867"
      ]
     },
     "execution_count": 13,
     "metadata": {},
     "output_type": "execute_result"
    }
   ],
   "source": [
    "from sklearn.metrics import accuracy_score\n",
    "round(accuracy_score(predict,y_teste),3)"
   ]
  },
  {
   "cell_type": "code",
   "execution_count": 12,
   "metadata": {},
   "outputs": [
    {
     "name": "stdout",
     "output_type": "stream",
     "text": [
      "6 1 1 7\n"
     ]
    }
   ],
   "source": [
    "from sklearn.metrics import confusion_matrix\n",
    "tn, fp, fn, tp = confusion_matrix(y_teste, predict).ravel()\n",
    "print(tn, fp, fn, tp)"
   ]
  }
 ],
 "metadata": {
  "kernelspec": {
   "display_name": "Python 3",
   "language": "python",
   "name": "python3"
  },
  "language_info": {
   "codemirror_mode": {
    "name": "ipython",
    "version": 3
   },
   "file_extension": ".py",
   "mimetype": "text/x-python",
   "name": "python",
   "nbconvert_exporter": "python",
   "pygments_lexer": "ipython3",
   "version": "3.7.3"
  }
 },
 "nbformat": 4,
 "nbformat_minor": 2
}
