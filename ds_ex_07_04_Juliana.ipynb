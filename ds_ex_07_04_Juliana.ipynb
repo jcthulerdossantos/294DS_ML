{
 "cells": [
  {
   "cell_type": "markdown",
   "metadata": {},
   "source": [
    "# Exercício 07_04\n",
    "\n",
    "### Juliana Carolina Thuler dos Santos\n",
    "\n",
    "## Random Forest\n",
    "\n",
    "Criar sua própria classe de Random Forest, utilizando como base o `DecisionTreeClassifier` do `scikit-learn`. No construtor da classe, permitir a configuração de:\n",
    "\n",
    "- quantidade de árvores;\n",
    "- porcentagem de variáveis explicativas por árvore;\n",
    "- porcentagem de amostras por árvore.\n",
    "\n",
    "Podem ser criados novos parâmetros no construtor, assim como podem ser criados novos métodos na classe, de acordo com a necessidade. Além disso, façam uso das bibliotecas que acharem necessário.\n",
    "\n",
    "*Dicas: a cada novo passo, teste se está funcionando, criando instâncias, chamando os métodos, printando e conferindo se está tudo (parecido com o que foi feito em sala na aula de Árvore, quando criamos a nossa classe pra esse algoritmo).*"
   ]
  },
  {
   "cell_type": "code",
   "execution_count": 1,
   "metadata": {},
   "outputs": [],
   "source": [
    "import pandas as pd\n",
    "import numpy as np\n",
    "import random\n",
    "from scipy.stats import mode"
   ]
  },
  {
   "cell_type": "code",
   "execution_count": 2,
   "metadata": {},
   "outputs": [],
   "source": [
    "from sklearn.model_selection import train_test_split as tts\n",
    "from sklearn.tree import DecisionTreeClassifier\n",
    "\n",
    "class RandomForest:\n",
    "    \n",
    "    ## TODO se achar necessário, adicionar novos parâmetros no construtor\n",
    "    def __init__(self, n_arvores, frac_explicativa, frac_amostra):\n",
    "        self.n_arvores = n_arvores\n",
    "        self.frac_explicativa = frac_explicativa\n",
    "        self.frac_amostra = frac_amostra\n",
    "        \n",
    "    def __repr__(self):\n",
    "        return f'Random Forest com {self.n_arvores} árvores.'\n",
    "    \n",
    "    # TODO ajustar método fit\n",
    "    def fit(self, x, y):\n",
    "        \n",
    "        self.lista_vars_to_consider = []\n",
    "        self.lista_modelos = []\n",
    "        \n",
    "        qtd_vars = int((len(x.columns)*self.frac_explicativa))\n",
    "        \n",
    "        for i in range(self.n_arvores):\n",
    "            \n",
    "            j = 0\n",
    "            index_vars = [n for n in range(len(x.columns))]\n",
    "\n",
    "            while j < (len(x.columns) - qtd_vars):\n",
    "                n = random.randint(0,(len(index_vars)-1))\n",
    "                index_vars.remove(index_vars[n])\n",
    "                j+=1\n",
    "                \n",
    "            self.lista_vars_to_consider.append(index_vars)\n",
    "            \n",
    "            x = x.iloc[:,index_vars]\n",
    "        \n",
    "            x_treino, x_, y_treino, y_ = tts(x, y, test_size = self.frac_amostra, random_state = (i+1))\n",
    "        \n",
    "            self.modelo = DecisionTreeClassifier()\n",
    "            \n",
    "            self.lista_modelos.append(self.modelo.fit(x_treino, y_treino))\n",
    "        \n",
    "        return\n",
    "    \n",
    "    # TODO criar método predict\n",
    "    def predict(self, x):\n",
    "        \n",
    "        self.lista_predict = []\n",
    "        \n",
    "        for i in range(self.n_arvores):\n",
    "            \n",
    "            x = x.iloc[:,self.lista_vars_to_consider[i]]\n",
    "            \n",
    "            prediction = self.lista_modelos[i].predict(x)\n",
    "            \n",
    "            self.lista_predict.append(prediction)\n",
    "            \n",
    "        resposta = mode(self.lista_predict).mode[0][0]\n",
    "                \n",
    "        return resposta"
   ]
  },
  {
   "cell_type": "code",
   "execution_count": 3,
   "metadata": {},
   "outputs": [],
   "source": [
    "iris = pd.read_csv('iris.csv')"
   ]
  },
  {
   "cell_type": "code",
   "execution_count": 4,
   "metadata": {},
   "outputs": [
    {
     "data": {
      "text/plain": [
       "Random Forest com 100 árvores."
      ]
     },
     "execution_count": 4,
     "metadata": {},
     "output_type": "execute_result"
    }
   ],
   "source": [
    "#criando o modelo\n",
    "rf = RandomForest(n_arvores = 100, frac_explicativa = 0.667, frac_amostra = 0.33)\n",
    "rf"
   ]
  },
  {
   "cell_type": "code",
   "execution_count": 5,
   "metadata": {},
   "outputs": [],
   "source": [
    "#fit no modelo\n",
    "rf.fit(iris.drop('species', axis = 1), iris.species)"
   ]
  },
  {
   "cell_type": "code",
   "execution_count": 6,
   "metadata": {},
   "outputs": [],
   "source": [
    "#amostras para predição\n",
    "test_1 = pd.DataFrame(iris.iloc[30,:-1]).T\n",
    "test_2 = pd.DataFrame(iris.iloc[60,:-1]).T\n",
    "test_3 = pd.DataFrame(iris.iloc[90,:-1]).T"
   ]
  },
  {
   "cell_type": "code",
   "execution_count": 7,
   "metadata": {},
   "outputs": [
    {
     "data": {
      "text/plain": [
       "0.0"
      ]
     },
     "execution_count": 7,
     "metadata": {},
     "output_type": "execute_result"
    }
   ],
   "source": [
    "rf.predict(test_1)"
   ]
  },
  {
   "cell_type": "code",
   "execution_count": 8,
   "metadata": {},
   "outputs": [
    {
     "data": {
      "text/plain": [
       "1.0"
      ]
     },
     "execution_count": 8,
     "metadata": {},
     "output_type": "execute_result"
    }
   ],
   "source": [
    "rf.predict(test_2)"
   ]
  },
  {
   "cell_type": "code",
   "execution_count": 9,
   "metadata": {},
   "outputs": [
    {
     "data": {
      "text/plain": [
       "1.0"
      ]
     },
     "execution_count": 9,
     "metadata": {},
     "output_type": "execute_result"
    }
   ],
   "source": [
    "rf.predict(test_3)"
   ]
  },
  {
   "cell_type": "code",
   "execution_count": 10,
   "metadata": {},
   "outputs": [
    {
     "name": "stdout",
     "output_type": "stream",
     "text": [
      "0.0\n",
      "1.0\n",
      "1.0\n"
     ]
    }
   ],
   "source": [
    "#respostas\n",
    "resp_1 = iris.iloc[30,-1]\n",
    "print(resp_1)\n",
    "\n",
    "resp_2 = iris.iloc[60,-1]\n",
    "print(resp_2)\n",
    "\n",
    "resp_3 = iris.iloc[90,-1]\n",
    "print(resp_3)"
   ]
  }
 ],
 "metadata": {
  "kernelspec": {
   "display_name": "Python 3",
   "language": "python",
   "name": "python3"
  },
  "language_info": {
   "codemirror_mode": {
    "name": "ipython",
    "version": 3
   },
   "file_extension": ".py",
   "mimetype": "text/x-python",
   "name": "python",
   "nbconvert_exporter": "python",
   "pygments_lexer": "ipython3",
   "version": "3.7.3"
  }
 },
 "nbformat": 4,
 "nbformat_minor": 2
}
