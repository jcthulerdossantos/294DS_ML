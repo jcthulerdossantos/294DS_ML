{
 "cells": [
  {
   "cell_type": "markdown",
   "metadata": {},
   "source": [
    "# Exercício 07_02\n",
    "\n",
    "#### Juliana Carolina Thuler dos Santos\n",
    "\n",
    "## KNN\n",
    "\n",
    "Alterar a função `vizinho_mais_proximo_()` para identificar se a variável resposta é contínua ou não, fazendo um KNN Classificador ou KNN Regressor de acordo com isso.\n",
    "\n",
    "Para o KNN Classificador, retornar a probabilidade de pertencer a uma determinada classe. Já para o KNN Regressor, trazer uma tupla com a média ou mediana, de acordo com o parâmetro `est`, e o desvio padrão."
   ]
  },
  {
   "cell_type": "code",
   "execution_count": 1,
   "metadata": {},
   "outputs": [],
   "source": [
    "import pandas as pd\n",
    "import numpy as np\n",
    "from scipy.stats import mode"
   ]
  },
  {
   "cell_type": "code",
   "execution_count": 2,
   "metadata": {},
   "outputs": [],
   "source": [
    "df = pd.read_csv('iris.csv')"
   ]
  },
  {
   "cell_type": "code",
   "execution_count": 3,
   "metadata": {},
   "outputs": [],
   "source": [
    "from sklearn.model_selection import train_test_split as tts\n",
    "\n",
    "df_treino, df_teste = tts(df, test_size = 0.2, random_state = 42)"
   ]
  },
  {
   "cell_type": "code",
   "execution_count": 4,
   "metadata": {},
   "outputs": [],
   "source": [
    "sample_teste_continuo_1 = pd.DataFrame(df_teste.iloc[0,:]).T.drop(columns = [df.columns[0]])\n",
    "sample_teste_continuo_2 = pd.DataFrame(df_teste.iloc[0,:]).T.drop(columns = [df.columns[1]])\n",
    "sample_teste_continuo_3 = pd.DataFrame(df_teste.iloc[0,:]).T.drop(columns = [df.columns[2]])\n",
    "sample_teste_continuo_4 = pd.DataFrame(df_teste.iloc[0,:]).T.drop(columns = [df.columns[3]])\n",
    "sample_teste_classif = pd.DataFrame(df_teste.iloc[0,:]).T.drop(columns = ['species'])"
   ]
  },
  {
   "cell_type": "code",
   "execution_count": 5,
   "metadata": {},
   "outputs": [],
   "source": [
    "def vizinho_mais_proximo_(d_treino, nova_instancia, var_resposta, k = 1, est = 'média'):\n",
    "    \n",
    "    '''\n",
    "    Dado um conjunto de dados chamado d_treino, calcula a predição da classe para a nova_instancia.\n",
    "    '''\n",
    "    \n",
    "    list_col = []\n",
    "    list_col_uniques = []\n",
    "    \n",
    "    d_treino_aux = d_treino.copy()\n",
    "    \n",
    "    for col in d_treino_aux.columns:\n",
    "        \n",
    "        if d_treino_aux[col].dtype == 'O':\n",
    "            \n",
    "            list_aux = list(d_treino_aux[col].unique())\n",
    "\n",
    "            list_col.append(col)\n",
    "            list_col_uniques.append(list_aux)\n",
    "                        \n",
    "            d_treino_aux[col] = d_treino_aux[col].replace(list_aux, [i for i in range(len(list_aux))])\n",
    "            try:\n",
    "                nova_instancia[col] = nova_instancia[col].replace(list_aux, [i for i in range(len(list_aux))])\n",
    "            except:\n",
    "                pass\n",
    "    \n",
    "    lista_distancia = []\n",
    "    \n",
    "    for lin in range(d_treino_aux.shape[0]):\n",
    "        \n",
    "        d_calc = d_treino_aux.drop(columns = [var_resposta]) #excluindo variável resposta para calcular distância\n",
    "        \n",
    "        d = 0\n",
    "        \n",
    "        d = np.sqrt(np.sum((d_calc.iloc[lin,:].values - nova_instancia.values)**2))\n",
    "        \n",
    "        lista_distancia.append((d, d_treino_aux.iloc[lin][var_resposta]))\n",
    "    \n",
    "    lista_distancia = sorted(lista_distancia)\n",
    "    lista_distancia = lista_distancia[:k]\n",
    "                  \n",
    "    if d_treino[var_resposta].dtype == 'float':\n",
    "                  \n",
    "        vetor = np.array([i[1] for i in lista_distancia])\n",
    "                  \n",
    "        if est == 'média':\n",
    "                  \n",
    "            media = round(np.mean(vetor),2)\n",
    "            desv_pad = round(np.std(vetor),2)\n",
    "            \n",
    "            resposta = 'média: ' + str(media) + ' desvio padrão: ' + str(desv_pad)\n",
    "        \n",
    "        if est == 'mediana':\n",
    "                  \n",
    "            mediana = round(np.median(vetor),2)\n",
    "            desv_pad = round(np.std(vetor),2)\n",
    "            \n",
    "            resposta = 'mediana: ' + str(mediana) + ' desvio padrão: ' + str(desv_pad)\n",
    "            \n",
    "        if est == 'moda':\n",
    "                  \n",
    "            moda = mode(vetor).mode[0]\n",
    "            desv_pad = round(np.std(vetor),2)\n",
    "            \n",
    "            resposta = 'moda: ' + str(moda)+ ' desvio padrão: ' + str(desv_pad)\n",
    "                  \n",
    "    else:\n",
    "\n",
    "        moda = int(mode([i[1] for i in lista_distancia]).mode[0])\n",
    "        \n",
    "        index = list_col.index(var_resposta)\n",
    "        lista_transform = list_col_uniques[index]\n",
    "        \n",
    "        resposta = 'Classificação: ' + lista_transform[moda]\n",
    "            \n",
    "    return resposta"
   ]
  },
  {
   "cell_type": "code",
   "execution_count": 6,
   "metadata": {},
   "outputs": [
    {
     "data": {
      "text/html": [
       "<div>\n",
       "<style scoped>\n",
       "    .dataframe tbody tr th:only-of-type {\n",
       "        vertical-align: middle;\n",
       "    }\n",
       "\n",
       "    .dataframe tbody tr th {\n",
       "        vertical-align: top;\n",
       "    }\n",
       "\n",
       "    .dataframe thead th {\n",
       "        text-align: right;\n",
       "    }\n",
       "</style>\n",
       "<table border=\"1\" class=\"dataframe\">\n",
       "  <thead>\n",
       "    <tr style=\"text-align: right;\">\n",
       "      <th></th>\n",
       "      <th>sepal_length</th>\n",
       "      <th>sepal_width</th>\n",
       "      <th>petal_length</th>\n",
       "      <th>petal_width</th>\n",
       "      <th>species</th>\n",
       "    </tr>\n",
       "  </thead>\n",
       "  <tbody>\n",
       "    <tr>\n",
       "      <th>73</th>\n",
       "      <td>6.1</td>\n",
       "      <td>2.8</td>\n",
       "      <td>4.7</td>\n",
       "      <td>1.2</td>\n",
       "      <td>versicolor</td>\n",
       "    </tr>\n",
       "  </tbody>\n",
       "</table>\n",
       "</div>"
      ],
      "text/plain": [
       "   sepal_length sepal_width petal_length petal_width     species\n",
       "73          6.1         2.8          4.7         1.2  versicolor"
      ]
     },
     "execution_count": 6,
     "metadata": {},
     "output_type": "execute_result"
    }
   ],
   "source": [
    "#linha usada para testar função\n",
    "pd.DataFrame(df_teste.iloc[0,:]).T"
   ]
  },
  {
   "cell_type": "code",
   "execution_count": 7,
   "metadata": {},
   "outputs": [
    {
     "data": {
      "text/plain": [
       "'Classificação: versicolor'"
      ]
     },
     "execution_count": 7,
     "metadata": {},
     "output_type": "execute_result"
    }
   ],
   "source": [
    "vizinho_mais_proximo_(df_treino, sample_teste_classif, 'species', k = 5)"
   ]
  },
  {
   "cell_type": "code",
   "execution_count": 8,
   "metadata": {},
   "outputs": [
    {
     "data": {
      "text/plain": [
       "'média: 6.16 desvio padrão: 0.39'"
      ]
     },
     "execution_count": 8,
     "metadata": {},
     "output_type": "execute_result"
    }
   ],
   "source": [
    "vizinho_mais_proximo_(df_treino, sample_teste_continuo_1, df_treino.columns[0], k = 5)"
   ]
  },
  {
   "cell_type": "code",
   "execution_count": 9,
   "metadata": {},
   "outputs": [
    {
     "data": {
      "text/plain": [
       "'média: 2.72 desvio padrão: 0.27'"
      ]
     },
     "execution_count": 9,
     "metadata": {},
     "output_type": "execute_result"
    }
   ],
   "source": [
    "vizinho_mais_proximo_(df_treino, sample_teste_continuo_2, df_treino.columns[1], k = 5,est = 'média')"
   ]
  },
  {
   "cell_type": "code",
   "execution_count": 10,
   "metadata": {},
   "outputs": [
    {
     "data": {
      "text/plain": [
       "'mediana: 4.3 desvio padrão: 0.25'"
      ]
     },
     "execution_count": 10,
     "metadata": {},
     "output_type": "execute_result"
    }
   ],
   "source": [
    "vizinho_mais_proximo_(df_treino, sample_teste_continuo_3, df_treino.columns[2], k = 5,est = 'mediana')"
   ]
  },
  {
   "cell_type": "code",
   "execution_count": 11,
   "metadata": {},
   "outputs": [
    {
     "data": {
      "text/plain": [
       "'moda: 1.4 desvio padrão: 0.07'"
      ]
     },
     "execution_count": 11,
     "metadata": {},
     "output_type": "execute_result"
    }
   ],
   "source": [
    "vizinho_mais_proximo_(df_treino, sample_teste_continuo_4, df_treino.columns[3], k = 5, est = 'moda')"
   ]
  }
 ],
 "metadata": {
  "kernelspec": {
   "display_name": "Python 3",
   "language": "python",
   "name": "python3"
  },
  "language_info": {
   "codemirror_mode": {
    "name": "ipython",
    "version": 3
   },
   "file_extension": ".py",
   "mimetype": "text/x-python",
   "name": "python",
   "nbconvert_exporter": "python",
   "pygments_lexer": "ipython3",
   "version": "3.7.3"
  }
 },
 "nbformat": 4,
 "nbformat_minor": 2
}
